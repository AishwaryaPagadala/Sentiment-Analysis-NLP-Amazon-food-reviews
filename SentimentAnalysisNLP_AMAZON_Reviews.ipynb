{
  "nbformat": 4,
  "nbformat_minor": 0,
  "metadata": {
    "colab": {
      "name": "NLP Sentiment Analysis for AMAZON Reviews.ipynb",
      "provenance": [],
      "collapsed_sections": []
    },
    "kernelspec": {
      "name": "python3",
      "display_name": "Python 3"
    },
    "language_info": {
      "name": "python"
    }
  },
  "cells": [
    {
      "cell_type": "markdown",
      "metadata": {
        "id": "WrVAKqqE2moF"
      },
      "source": [
        "# **NLP Sentiment Analysis for AMAZON Reviews**"
      ]
    },
    {
      "cell_type": "markdown",
      "metadata": {
        "id": "F1PmyzA8JZaa"
      },
      "source": [
        "-By Aishwarya Pagadala [862324772]  and SriRaksha Srirangapatna Arun [862325113]"
      ]
    },
    {
      "cell_type": "markdown",
      "metadata": {
        "id": "PAnK-Yot4DON"
      },
      "source": [
        "**PROBLEM STATEMENT**"
      ]
    },
    {
      "cell_type": "markdown",
      "metadata": {
        "id": "w65F2eQ64H4w"
      },
      "source": [
        "One of the popular application of sentiment analysis is predicting sentiment of customer reviews. With the help of Sentiment Analysis, we can determine whether the text is showing positive or negative sentiment and this is done using both NLP and machine learning. \n",
        "\n",
        "For this project, We created a machine learning model which will predict if the review is positive or negative, using amazon’s food review dataset available at kaggle and also for any new given customer review."
      ]
    },
    {
      "cell_type": "markdown",
      "metadata": {
        "id": "13Lt3EsnyCPW"
      },
      "source": [
        "**IMPLEMENTATION**"
      ]
    },
    {
      "cell_type": "markdown",
      "metadata": {
        "id": "fIdPgLKHqcxn"
      },
      "source": [
        "Firstly, We imported the following libraries for text pre-processing.\n",
        "- We imported \"bs4\" for Removing HTML tags from the text.\n",
        "- Relibrary \"re\" will help in Removing Alphanumeric Text and Special Characters.\n",
        "- \"nltk\" library is useful to perform Tokenization, Removing Stopwords, and Lemmatization."
      ]
    },
    {
      "cell_type": "code",
      "metadata": {
        "id": "SqFJ3ujlPQas",
        "colab": {
          "base_uri": "https://localhost:8080/"
        },
        "outputId": "76553771-e23c-46d3-a701-9abf6faa99b2"
      },
      "source": [
        "# Import the required libraries\n",
        "import pandas as pd\n",
        "from bs4 import BeautifulSoup\n",
        "import re\n",
        "import nltk\n",
        "nltk.download('stopwords')\n",
        "nltk.download('wordnet')\n",
        "from nltk.corpus import stopwords\n",
        "from nltk.stem.wordnet import WordNetLemmatizer\n",
        "from tqdm import tqdm"
      ],
      "execution_count": 1,
      "outputs": [
        {
          "output_type": "stream",
          "name": "stdout",
          "text": [
            "[nltk_data] Downloading package stopwords to /root/nltk_data...\n",
            "[nltk_data]   Unzipping corpora/stopwords.zip.\n",
            "[nltk_data] Downloading package wordnet to /root/nltk_data...\n",
            "[nltk_data]   Unzipping corpora/wordnet.zip.\n"
          ]
        }
      ]
    },
    {
      "cell_type": "markdown",
      "metadata": {
        "id": "v693Frd_rzHt"
      },
      "source": [
        " Then, we imported the dataset. We are using amazon’s food review dataset available at kaggle."
      ]
    },
    {
      "cell_type": "code",
      "metadata": {
        "id": "7o6t2dz4XKmY"
      },
      "source": [
        "# Import the dataset \"Reviews\"\n",
        "reviews_dataset = pd.read_csv('/content/drive/MyDrive/Reviews.csv',nrows = 10000)"
      ],
      "execution_count": 2,
      "outputs": []
    },
    {
      "cell_type": "markdown",
      "metadata": {
        "id": "02u0MPu7sCs7"
      },
      "source": [
        "Removing duplicate entries"
      ]
    },
    {
      "cell_type": "code",
      "metadata": {
        "id": "7nirYQGZXTVe"
      },
      "source": [
        "# Dropping the dups in dataset\n",
        "reviews_dataset = reviews_dataset.drop_duplicates(subset={\"UserId\",\"ProfileName\",\"Time\",\"Text\"}, keep='first', inplace=False)\n"
      ],
      "execution_count": 3,
      "outputs": []
    },
    {
      "cell_type": "markdown",
      "metadata": {
        "id": "nQT3bqXftpHZ"
      },
      "source": [
        "Removing HTML tags"
      ]
    },
    {
      "cell_type": "code",
      "metadata": {
        "id": "LhL8X5ViXYch"
      },
      "source": [
        "def removeHTMLTags(reviewData):\n",
        "    data = BeautifulSoup(reviewData, 'lxml')\n",
        "    return data.get_text()"
      ],
      "execution_count": 4,
      "outputs": []
    },
    {
      "cell_type": "markdown",
      "metadata": {
        "id": "F8l07IRP6AxC"
      },
      "source": [
        "Removing words with apostrophe and replacing with actual words"
      ]
    },
    {
      "cell_type": "code",
      "metadata": {
        "id": "yr7OGSmoXcdr"
      },
      "source": [
        "def removeApostrophe(reviewData):\n",
        "    reviewsDataPhrase = re.sub(r\"won't\", \"will not\", reviewData)\n",
        "    reviewsDataPhrase = re.sub(r\"can\\'t\", \"can not\", reviewData)\n",
        "    reviewsDataPhrase = re.sub(r\"n\\'t\", \" not\", reviewData)\n",
        "    reviewsDataPhrase = re.sub(r\"\\'re\", \" are\", reviewData)\n",
        "    reviewsDataPhrase = re.sub(r\"\\'s\", \" is\", reviewData)\n",
        "    reviewsDataPhrase = re.sub(r\"\\'d\", \" would\", reviewData)\n",
        "    reviewsDataPhrase = re.sub(r\"\\'ll\", \" will\", reviewData)\n",
        "    reviewsDataPhrase = re.sub(r\"\\'t\", \" not\", reviewData)\n",
        "    reviewsDataPhrase = re.sub(r\"\\'ve\", \" have\", reviewData)\n",
        "    reviewsDataPhrase = re.sub(r\"\\'m\", \" am\", reviewData)\n",
        "    return reviewsDataPhrase"
      ],
      "execution_count": 5,
      "outputs": []
    },
    {
      "cell_type": "markdown",
      "metadata": {
        "id": "NMNukYfit0l1"
      },
      "source": [
        "Removing Alpha Numeric words"
      ]
    },
    {
      "cell_type": "code",
      "metadata": {
        "id": "Iq_fOGUGXgcd"
      },
      "source": [
        "def removeAlphaNumericWords(reviews_data):\n",
        "     return re.sub(\"\\S*\\d\\S*\", \"\", reviews_data).strip()"
      ],
      "execution_count": 6,
      "outputs": []
    },
    {
      "cell_type": "markdown",
      "metadata": {
        "id": "rE6D-fu7uHnF"
      },
      "source": [
        "Removing special characters"
      ]
    },
    {
      "cell_type": "code",
      "metadata": {
        "id": "69NnJJKVt8SK"
      },
      "source": [
        " def removeSpecialChars(reviews_data):\n",
        "     return re.sub('[^a-zA-Z]', ' ', reviews_data)"
      ],
      "execution_count": 7,
      "outputs": []
    },
    {
      "cell_type": "markdown",
      "metadata": {
        "id": "jwulOwYwuyyu"
      },
      "source": [
        "We created a doTextCleaning() function, which will use the above-created methods as well as perform Tokenization, Removing Stopwords, Lowercasing, and Lemmatization"
      ]
    },
    {
      "cell_type": "code",
      "metadata": {
        "id": "McgZizYoXjMV"
      },
      "source": [
        "def performTextCleaning(reviews_data):\n",
        "    reviews_data = removeHTMLTags(reviews_data)\n",
        "    reviews_data = removeApostrophe(reviews_data)\n",
        "    reviews_data = removeAlphaNumericWords(reviews_data)\n",
        "    reviews_data = removeSpecialChars(reviews_data) \n",
        "    # Lower casing\n",
        "    reviews_data = reviews_data.lower()  \n",
        "    #Tokenization\n",
        "    reviews_data = reviews_data.split()\n",
        "    #Removing Stopwords and Lemmatization\n",
        "    lemmatizer = WordNetLemmatizer()\n",
        "    reviews_data = [lemmatizer.lemmatize(word, 'v') for word in reviews_data if not word in set(stopwords.words('english'))]\n",
        "    reviews_data = \" \".join(reviews_data)    \n",
        "    return reviews_data"
      ],
      "execution_count": 8,
      "outputs": []
    },
    {
      "cell_type": "code",
      "metadata": {
        "id": "doEBTpv_uDYn"
      },
      "source": [
        "def scorePartition(num):\n",
        "    if num < 3:\n",
        "        return 0\n",
        "    return 1"
      ],
      "execution_count": 9,
      "outputs": []
    },
    {
      "cell_type": "markdown",
      "metadata": {
        "id": "9H_6nx_Wvq0K"
      },
      "source": [
        "Here, we map posivitive or negetive score to 1 or 0 respectively, and updating the dataset"
      ]
    },
    {
      "cell_type": "code",
      "metadata": {
        "id": "5SwisJPnXlaG"
      },
      "source": [
        "# Generalizing the score\n",
        "actualScore = reviews_dataset['Score']\n",
        "positiveNegative = actualScore.map(scorePartition) \n",
        "reviews_dataset['Score'] = positiveNegative"
      ],
      "execution_count": 10,
      "outputs": []
    },
    {
      "cell_type": "markdown",
      "metadata": {
        "id": "FNlK-Rx-wrZM"
      },
      "source": [
        "**TEXT PREPOSSESING**"
      ]
    },
    {
      "cell_type": "markdown",
      "metadata": {
        "id": "K44AqXizv8v0"
      },
      "source": [
        "\n",
        "Here, we will create document corpus on which we will apply Bag of words model. The document corpus is a collection of all reviews in the document, where the document is our dataset.\n",
        "\n",
        "In the below code we created corpus array and we have applied for loop on our dataset. In the for loop we will call performTextCleaning() function, which will return the cleaned text review. \n",
        "\n",
        "Once we receive the cleaned and preprocessed text, we will append it into the corpus array."
      ]
    },
    {
      "cell_type": "code",
      "metadata": {
        "colab": {
          "base_uri": "https://localhost:8080/"
        },
        "id": "aRBzqyDgXp6k",
        "outputId": "44f2055f-8d9f-4fb4-b821-a283ec023cc1"
      },
      "source": [
        "# creating the document corpus\n",
        "corpus = []   \n",
        "for index, row in tqdm(reviews_dataset.iterrows()):\n",
        "    reviewdata = performTextCleaning(row['Text'])\n",
        "    corpus.append(reviewdata)"
      ],
      "execution_count": 11,
      "outputs": [
        {
          "output_type": "stream",
          "name": "stderr",
          "text": [
            "9515it [01:58, 80.44it/s]\n"
          ]
        }
      ]
    },
    {
      "cell_type": "markdown",
      "metadata": {
        "id": "qM87ZeXlzsdG"
      },
      "source": [
        "ADVANCED TEXT PREPROCESSING"
      ]
    },
    {
      "cell_type": "markdown",
      "metadata": {
        "id": "MlBULiJ0w2vK"
      },
      "source": [
        "The next step is to perform Advance text preprocessing on the reviews, which will convert the reviews into Numeric Vectors and using that we can create our Machine Learning model.\n",
        "\n",
        "Using the document corpus we create \"Bag-of-Words\" model along with applying Tri-grams. Bag of Word model creates a set of words or in other words, it creates a dictionary of words from the single document. Then it converts that dictionary of words into a vector, where each word is a separate dimension.\n",
        "\n",
        "Note: Grams(Tri-gram) are useful in creating the word dimensions from the document corpus.Here, we used Tri-grams to create word dimension."
      ]
    },
    {
      "cell_type": "markdown",
      "metadata": {
        "id": "Hf74cO91xGOy"
      },
      "source": [
        "First we import the CountVectorizer transform from scikit library."
      ]
    },
    {
      "cell_type": "code",
      "metadata": {
        "id": "AE-xNSaXvS4J"
      },
      "source": [
        "# Creating the Bag of Words model\n",
        "from sklearn.feature_extraction.text import CountVectorizer"
      ],
      "execution_count": 12,
      "outputs": []
    },
    {
      "cell_type": "markdown",
      "metadata": {
        "id": "aSVWLegIxR-N"
      },
      "source": [
        "Here, We are creating the transform using CountVectorizer with tri-grams.\n",
        "Note: We can specify which grams we want to use ngram_range parameter, for tri-gram usengram_range=(1,3)."
      ]
    },
    {
      "cell_type": "code",
      "metadata": {
        "id": "k2rZqkgdvzpD"
      },
      "source": [
        "#Creating a tranform\n",
        "countVectors = CountVectorizer(ngram_range=(1,3), max_features = 5000)\n",
        "X = countVectors.fit_transform(corpus).toarray()\n",
        "y = reviews_dataset.iloc[:,6].values\n"
      ],
      "execution_count": 13,
      "outputs": []
    },
    {
      "cell_type": "markdown",
      "metadata": {
        "id": "hb-Pp8_XxaDC"
      },
      "source": [
        "**NLP sentiment analysis Machine learning model**"
      ]
    },
    {
      "cell_type": "markdown",
      "metadata": {
        "id": "lzfD8bIYyh-O"
      },
      "source": [
        "In this project, we used the Naive Bayes classification model.\n",
        "\n",
        "As of now, we have two vectors i.e. X and Y.So, firstly to create a machine learning model is that splitting the dataset into the Training set and Test set. Here, we are splitting our data as 80% training and 20% testing sets.\n",
        " \n",
        "Using the training set we will train our Naive Bayes classification model. Then With the test set can check the performance of a Naive Bayes classification model."
      ]
    },
    {
      "cell_type": "markdown",
      "metadata": {
        "id": "PSL76Ja1zM3x"
      },
      "source": [
        "Below, we imported the train_test_split API to split the vectors into test and training sets."
      ]
    },
    {
      "cell_type": "code",
      "metadata": {
        "id": "BIQcgEVov4OB"
      },
      "source": [
        "# Splitting the dataset into the Training set and Test set\n",
        "from sklearn.model_selection import train_test_split\n",
        "X_train, X_test, y_train, y_test = train_test_split(X, y, test_size = 0.20, random_state = 0)"
      ],
      "execution_count": 14,
      "outputs": []
    },
    {
      "cell_type": "markdown",
      "metadata": {
        "id": "Wf2Kh9RVza1h"
      },
      "source": [
        "**Gaussian Naive Bayes classification model**"
      ]
    },
    {
      "cell_type": "markdown",
      "metadata": {
        "id": "JEhKdb0jTRA8"
      },
      "source": [
        "Gaussian Naive Bayes is a variant of Naive Bayes that follows Gaussian normal distribution and supports continuous data.\n",
        "\n",
        "The Gaussian or Normal Distribution depends on 2 parameters of a series — The mean and the standard Deviation. Knowing these 2 parameters of the series we can find it’s distribution function.\n",
        "The mean value of the series and its standard deviation help find out the probability that the value x will occur."
      ]
    },
    {
      "cell_type": "markdown",
      "metadata": {
        "id": "yplNMkb0BcNW"
      },
      "source": [
        "![GNB.jpg](data:image/jpeg;base64,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)"
      ]
    },
    {
      "cell_type": "markdown",
      "metadata": {
        "id": "W-n1qcl564xa"
      },
      "source": [
        "Here, we are implementing Gaussian Naive Bayes classification model from scratch.\n",
        "\n",
        "The implementation details are as follows:\n",
        "1. Firstly, we import all the required dependencies- NumPy, pandas, and math library.\n",
        "2. We created a class \"GaussianNaiveBayesClassifier\" that holds the implementation of the algorithm. The first function \"separate_by_classes\"  will separate our data set by class. It separates the dataset into classes to calculate the mean and standard deviations for every column, separately for every class.\n",
        "3. In the \"fit\" function, we calculate for every class the mean and the standard deviation for every column.\n",
        "4. The Gaussian Distribution Function: The \"calculate_probability\" function calculates using the mean and standard deviation of a series the probability that a function will occur in a series.\n",
        "5. In the \"predict_function\", it returns a dictionary with probabilities of the sample to belong to a class.\n",
        "6. In the predict function, we predict the class of a sample by taking max probability for each sample"
      ]
    },
    {
      "cell_type": "code",
      "metadata": {
        "id": "-Otc8Lx1LA3z"
      },
      "source": [
        "import numpy as np\n",
        "import pandas as pd\n",
        "import math\n",
        "\n",
        "class GaussianNaiveBayesClassifier:\n",
        "    def separate_by_classes(self, X, y):\n",
        "        # This function separates our dataset in subdatasets by classes\n",
        "        self.classes = np.unique(y)\n",
        "        classes_index = {}\n",
        "        subdatasets = {}\n",
        "        clss, counts = np.unique(y, return_counts=True)\n",
        "        self.class_freq = dict(zip(clss, counts))\n",
        "        print(self.class_freq)\n",
        "        for class_type in self.classes:\n",
        "            classes_index[class_type] = np.argwhere(y==class_type)\n",
        "            subdatasets[class_type] = X[classes_index[class_type], :]\n",
        "            self.class_freq[class_type] = self.class_freq[class_type]/sum(list(self.class_freq.values()))\n",
        "        return subdatasets\n",
        "    def fit(self, X, y):\n",
        "        # The fitting function \n",
        "        separated_X = self.separate_by_classes(X, y)\n",
        "        self.means = {}\n",
        "        self.std = {}\n",
        "        for class_type in self.classes:\n",
        "            # Here we calculate the mean and the standart deviation from datasets\n",
        "            self.means[class_type] = np.mean(separated_X[class_type], axis=0)[0]\n",
        "            self.std[class_type] = np.std(separated_X[class_type], axis=0)[0]\n",
        "    def calculate_probability(self, x, mean, stdev):\n",
        "        #This function calculates the class probability using gaussian distribution\n",
        "        exponent = math.exp(-((x - mean) ** 2 / (2 * stdev ** 2)))\n",
        "        return (1 / (math.sqrt(2 * math.pi) * stdev)) * exponent\n",
        "    def predict_proba(self, X):\n",
        "        # This function predicts the probability for every class\n",
        "        self.class_prob = {clss:math.log(self.class_freq[clss], math.e) for clss in self.classes}\n",
        "        for clss in self.classes:\n",
        "            for i in range(len(self.means)):\n",
        "                self.class_prob[clss]+=math.log(self.calculate_probability(X[i], self.means[clss][i], self.std[clss][i]), math.e)\n",
        "        self.class_prob = {clss: math.e**self.class_prob[clss] for clss in self.class_prob}\n",
        "        return self.class_prob\n",
        "    def predict(self, X):\n",
        "        # This funtion predicts the class of a sample\n",
        "        pred = []\n",
        "        for x in X:\n",
        "            pred_class = None\n",
        "            max_prob = 0\n",
        "            for clss, prob in self.predict_proba(x).items():\n",
        "                if prob>max_prob:\n",
        "                    max_prob = prob\n",
        "                    pred_class = clss\n",
        "            pred.append(pred_class)\n",
        "        return pred"
      ],
      "execution_count": 15,
      "outputs": []
    },
    {
      "cell_type": "code",
      "metadata": {
        "id": "vguKY_9-Giu8"
      },
      "source": [
        "gnbClassifier = GaussianNaiveBayesClassifier()"
      ],
      "execution_count": 16,
      "outputs": []
    },
    {
      "cell_type": "markdown",
      "metadata": {
        "id": "rwlIqR60BiG5"
      },
      "source": [
        "Training our model"
      ]
    },
    {
      "cell_type": "code",
      "metadata": {
        "colab": {
          "base_uri": "https://localhost:8080/"
        },
        "id": "Myh_1HLJI-8K",
        "outputId": "c7243cf2-8264-4ad8-aa70-53cbebdd15b2"
      },
      "source": [
        "gnbClassifier.fit(X_train, y_train)"
      ],
      "execution_count": 17,
      "outputs": [
        {
          "output_type": "stream",
          "name": "stdout",
          "text": [
            "{0: 1141, 1: 6471}\n"
          ]
        }
      ]
    },
    {
      "cell_type": "markdown",
      "metadata": {
        "id": "QuUyqOXeBqeQ"
      },
      "source": [
        "Predicting our test set results"
      ]
    },
    {
      "cell_type": "code",
      "metadata": {
        "id": "6KDhJGtX4ahf"
      },
      "source": [
        "# Predicting the Test set results\n",
        "y_pred = gnbClassifier.predict(X_test)"
      ],
      "execution_count": 18,
      "outputs": []
    },
    {
      "cell_type": "markdown",
      "metadata": {
        "id": "6Vv4keW4BvDR"
      },
      "source": [
        "Building Confusion Matrix"
      ]
    },
    {
      "cell_type": "code",
      "metadata": {
        "id": "Z-IouZoG4i7G"
      },
      "source": [
        "# Making the Confusion Matrix\n",
        "from sklearn.metrics import confusion_matrix\n",
        "cf_matrix = confusion_matrix(y_test, y_pred)"
      ],
      "execution_count": 19,
      "outputs": []
    },
    {
      "cell_type": "code",
      "metadata": {
        "colab": {
          "base_uri": "https://localhost:8080/"
        },
        "id": "n_kEHQRk4lQh",
        "outputId": "ae5a6a6c-fdb0-49ec-d9c7-7c6fcb994f26"
      },
      "source": [
        "print(\"Confusion Matrix :\",\"\\n\", cf_matrix)"
      ],
      "execution_count": 20,
      "outputs": [
        {
          "output_type": "stream",
          "name": "stdout",
          "text": [
            "Confusion Matrix : \n",
            " [[   3  289]\n",
            " [  58 1553]]\n"
          ]
        }
      ]
    },
    {
      "cell_type": "markdown",
      "metadata": {
        "id": "CeARpo0zB3QO"
      },
      "source": [
        "Visualizing the results with HeatMap"
      ]
    },
    {
      "cell_type": "code",
      "metadata": {
        "colab": {
          "base_uri": "https://localhost:8080/",
          "height": 283
        },
        "id": "urlvlgBqX3rj",
        "outputId": "071fd56d-b2eb-4d35-8ef4-36ef21477a5c"
      },
      "source": [
        "import seaborn as sns\n",
        "labels = [\"True Neg\",\"False Pos\",\"False Neg\",\"True Pos\"]\n",
        "labels = np.asarray(labels).reshape(2,2)\n",
        "sns.heatmap(cf_matrix, annot=labels, fmt=\"\", cmap='Blues')"
      ],
      "execution_count": 21,
      "outputs": [
        {
          "output_type": "execute_result",
          "data": {
            "text/plain": [
              "<matplotlib.axes._subplots.AxesSubplot at 0x7f5de91e3390>"
            ]
          },
          "metadata": {},
          "execution_count": 21
        },
        {
          "output_type": "display_data",
          "data": {
            "image/png": "[encoded data removed]",
            "text/plain": [
              "<Figure size 432x288 with 2 Axes>"
            ]
          },
          "metadata": {
            "needs_background": "light"
          }
        }
      ]
    },
    {
      "cell_type": "markdown",
      "metadata": {
        "id": "Rd6Aw7NmCBR0"
      },
      "source": [
        "Calculating Accuracy"
      ]
    },
    {
      "cell_type": "code",
      "metadata": {
        "colab": {
          "base_uri": "https://localhost:8080/"
        },
        "id": "l_-lqN6I41i_",
        "outputId": "8caccb75-f5ea-4056-f33f-9546ef4f311e"
      },
      "source": [
        "accuracy = (cf_matrix[0][0] + cf_matrix[1][1])/(cf_matrix[0][0]+ cf_matrix[0][1] + cf_matrix[1][0]+ cf_matrix[1][1])\n",
        "print(\"Accuracy is :\", accuracy)"
      ],
      "execution_count": 22,
      "outputs": [
        {
          "output_type": "stream",
          "name": "stdout",
          "text": [
            "Accuracy is : 0.8176563321071991\n"
          ]
        }
      ]
    },
    {
      "cell_type": "markdown",
      "metadata": {
        "id": "Zky4aXxUCENb"
      },
      "source": [
        "Calculating Recall"
      ]
    },
    {
      "cell_type": "code",
      "metadata": {
        "colab": {
          "base_uri": "https://localhost:8080/"
        },
        "id": "L-kq_TOo7utw",
        "outputId": "ec032ae7-55d7-40db-b008-c2ba25e61019"
      },
      "source": [
        " precision = (cf_matrix[1][1])/(cf_matrix[0][1] + cf_matrix[1][1])\n",
        "print(\"Recall/Precision is :\", precision)"
      ],
      "execution_count": 23,
      "outputs": [
        {
          "output_type": "stream",
          "name": "stdout",
          "text": [
            "Recall/Precision is : 0.8431053203040174\n"
          ]
        }
      ]
    },
    {
      "cell_type": "markdown",
      "metadata": {
        "id": "YzsJVlT1CG0p"
      },
      "source": [
        "Using our model to predict a new given customer review"
      ]
    },
    {
      "cell_type": "code",
      "metadata": {
        "id": "UOp3eo8TREyd"
      },
      "source": [
        "#Predict sentiment for new Review\n",
        "def predictNewReview():\n",
        "    predNewReview = input(\"Type the Review: \")\n",
        "    \n",
        "    if predNewReview =='':\n",
        "        print('Invalid Review')  \n",
        "    else:\n",
        "        predNewReview = performTextCleaning(predNewReview)\n",
        "        reviewVector = countVectors.transform([predNewReview]).toarray()  \n",
        "        prediction =  gnbClassifier.predict(reviewVector)\n",
        "        if prediction[0] == 1:\n",
        "            print( \"Positive Review\" )\n",
        "        else:        \n",
        "            print( \"Negative Review\")"
      ],
      "execution_count": 24,
      "outputs": []
    },
    {
      "cell_type": "markdown",
      "metadata": {
        "id": "09RGPP9BCP2w"
      },
      "source": [
        "Results:"
      ]
    },
    {
      "cell_type": "code",
      "metadata": {
        "colab": {
          "base_uri": "https://localhost:8080/"
        },
        "id": "qr3RsxNwRGpm",
        "outputId": "c5fe5b68-2e38-4d11-ba64-b086e9adf571"
      },
      "source": [
        "predictNewReview()"
      ],
      "execution_count": 25,
      "outputs": [
        {
          "output_type": "stream",
          "name": "stdout",
          "text": [
            "Type the Review: The food was amazing\n",
            "Positive Review\n"
          ]
        }
      ]
    }
  ]
}
